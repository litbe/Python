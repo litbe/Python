{
  "nbformat": 4,
  "nbformat_minor": 0,
  "metadata": {
    "colab": {
      "name": "SQLInjectionDetection.ipynb",
      "provenance": [],
      "collapsed_sections": [],
      "authorship_tag": "ABX9TyOJKuqs89T6TB9aW8k/u3Nd",
      "include_colab_link": true
    },
    "kernelspec": {
      "name": "python3",
      "display_name": "Python 3"
    },
    "language_info": {
      "name": "python"
    }
  },
  "cells": [
    {
      "cell_type": "markdown",
      "metadata": {
        "id": "view-in-github",
        "colab_type": "text"
      },
      "source": [
        "<a href=\"https://colab.research.google.com/github/litbe/Python/blob/master/SQLInjectionDetection.ipynb\" target=\"_parent\"><img src=\"https://colab.research.google.com/assets/colab-badge.svg\" alt=\"Open In Colab\"/></a>"
      ]
    },
    {
      "cell_type": "code",
      "execution_count": 2,
      "metadata": {
        "id": "NPKym__vW0_m"
      },
      "outputs": [],
      "source": [
        "import pandas as pd\n",
        "df = pd.read_csv('./payload_train.csv')"
      ]
    },
    {
      "cell_type": "code",
      "source": [
        "print(df)"
      ],
      "metadata": {
        "colab": {
          "base_uri": "https://localhost:8080/"
        },
        "id": "HPgyD8knYDux",
        "outputId": "9c5f16b7-2095-428c-ba94-70989154e58c"
      },
      "execution_count": 3,
      "outputs": [
        {
          "output_type": "stream",
          "name": "stdout",
          "text": [
            "                                                 payload  ...  label\n",
            "0                                         c/ caridad s/n  ...   norm\n",
            "1                                           campello, el  ...   norm\n",
            "2                                       1442431887503330  ...   norm\n",
            "3                                                  nue37  ...   norm\n",
            "4                                         tufts3@joll.rs  ...   norm\n",
            "...                                                  ...  ...    ...\n",
            "20707  <!--#exec cmd=\"/bin/echo '<script src'\"--><!--...  ...   anom\n",
            "20708  <head><meta http-equiv=\"content-type\" content=...  ...   anom\n",
            "20709  <script a=\">\" id=xss src=\"http://ha.ckers.org/...  ...   anom\n",
            "20710  <script \"a='>'\" id=xss src=\"http://ha.ckers.or...  ...   anom\n",
            "20711  <script a=`>` id=xss src=\"http://ha.ckers.org/...  ...   anom\n",
            "\n",
            "[20712 rows x 4 columns]\n"
          ]
        }
      ]
    },
    {
      "cell_type": "code",
      "source": [
        "import numpy as np\n",
        "import pandas as pd\n",
        "\n",
        "#HTTP query entropy\n",
        "def H_entropy(x):\n",
        "  prob = [ float(x.count(c)) / len(x) for c in dict.fromkeys(list(x))]\n",
        "  H = - sum([p * np.log2(p) for p in prob])\n",
        "  return H"
      ],
      "metadata": {
        "id": "c3U5bMxuYVXg"
      },
      "execution_count": 4,
      "outputs": []
    },
    {
      "cell_type": "code",
      "source": [
        "#normal label\n",
        "df_norm = df[df.attack_type == 'norm']\n",
        "\n",
        "#list\n",
        "norm_entropies = []\n",
        "\n",
        "# payload\n",
        "for i in df_norm['payload']:\n",
        "  norm_entropies.append(H_entropy(i))"
      ],
      "metadata": {
        "id": "81gpKD2gZA5-"
      },
      "execution_count": 5,
      "outputs": []
    },
    {
      "cell_type": "code",
      "source": [
        "#entropy\n",
        "sum(norm_entropies) / len(norm_entropies)"
      ],
      "metadata": {
        "colab": {
          "base_uri": "https://localhost:8080/"
        },
        "id": "GZrDxln9Zf_k",
        "outputId": "bfe67ff2-34a3-4736-f8e2-756a6418bfcd"
      },
      "execution_count": 6,
      "outputs": [
        {
          "output_type": "execute_result",
          "data": {
            "text/plain": [
              "2.7658075808985836"
            ]
          },
          "metadata": {},
          "execution_count": 6
        }
      ]
    },
    {
      "cell_type": "code",
      "source": [
        "#sqli label\n",
        "df_sqli = df[df.attack_type == 'sqli']\n",
        "\n",
        "#list\n",
        "sqli_entropies = []\n",
        "\n",
        "# payload\n",
        "for i in df_sqli['payload']:\n",
        "  sqli_entropies.append(H_entropy(i))"
      ],
      "metadata": {
        "id": "AMvgVHUlaS4e"
      },
      "execution_count": 7,
      "outputs": []
    },
    {
      "cell_type": "code",
      "source": [
        "#entropy\n",
        "sum(sqli_entropies) / len(sqli_entropies)"
      ],
      "metadata": {
        "colab": {
          "base_uri": "https://localhost:8080/"
        },
        "id": "z_Q3hvhyaeMy",
        "outputId": "68da42e5-4904-45ef-db97-89de089571c8"
      },
      "execution_count": 8,
      "outputs": [
        {
          "output_type": "execute_result",
          "data": {
            "text/plain": [
              "4.289379819336267"
            ]
          },
          "metadata": {},
          "execution_count": 8
        }
      ]
    },
    {
      "cell_type": "code",
      "source": [
        "import matplotlib.pyplot as plt\n",
        "\n",
        "fig,ax = plt.subplots()\n",
        "\n",
        "ax.set_title('Entropies of normal HTTP query string')\n",
        "ax.set_xlabel('Entropy')\n",
        "ax.set_ylabel('Numbers')\n",
        "\n",
        "plt.hist(norm_entropies, bins=30, range=(0,6), color='green')\n",
        "plt.show"
      ],
      "metadata": {
        "colab": {
          "base_uri": "https://localhost:8080/",
          "height": 312
        },
        "id": "JvbNJwEfax9G",
        "outputId": "a0da5f49-788f-4ca1-b1d5-9dff6831f679"
      },
      "execution_count": 9,
      "outputs": [
        {
          "output_type": "execute_result",
          "data": {
            "text/plain": [
              "<function matplotlib.pyplot.show>"
            ]
          },
          "metadata": {},
          "execution_count": 9
        },
        {
          "output_type": "display_data",
          "data": {
            "image/png": "[encoded data removed]",
            "text/plain": [
              "<Figure size 432x288 with 1 Axes>"
            ]
          },
          "metadata": {
            "needs_background": "light"
          }
        }
      ]
    },
    {
      "cell_type": "code",
      "source": [
        "import matplotlib.pyplot as plt\n",
        "\n",
        "fig,ax = plt.subplots()\n",
        "\n",
        "ax.set_title('Entropies of normal HTTP query string')\n",
        "ax.set_xlabel('Entropy')\n",
        "ax.set_ylabel('Numbers')\n",
        "\n",
        "plt.hist(sqli_entropies, bins=30, range=(0,6), color='red')\n",
        "plt.show"
      ],
      "metadata": {
        "colab": {
          "base_uri": "https://localhost:8080/",
          "height": 312
        },
        "id": "81OzI3SGcYSL",
        "outputId": "0a346cda-cb07-40e1-e32d-ff553ac674fe"
      },
      "execution_count": 10,
      "outputs": [
        {
          "output_type": "execute_result",
          "data": {
            "text/plain": [
              "<function matplotlib.pyplot.show>"
            ]
          },
          "metadata": {},
          "execution_count": 10
        },
        {
          "output_type": "display_data",
          "data": {
            "image/png": "[encoded data removed]",
            "text/plain": [
              "<Figure size 432x288 with 1 Axes>"
            ]
          },
          "metadata": {
            "needs_background": "light"
          }
        }
      ]
    },
    {
      "cell_type": "code",
      "source": [
        "df_sqli = df[df.attack_type == 'sqli']\n",
        "df_sqli"
      ],
      "metadata": {
        "colab": {
          "base_uri": "https://localhost:8080/",
          "height": 419
        },
        "id": "M4UhqqCadBge",
        "outputId": "e8a8a3e2-5de4-4be3-b061-8f89eb31fb95"
      },
      "execution_count": 11,
      "outputs": [
        {
          "output_type": "execute_result",
          "data": {
            "text/html": [
              "\n",
              "  <div id=\"df-f0fb26ac-7200-47c0-9581-7952ffeb2507\">\n",
              "    <div class=\"colab-df-container\">\n",
              "      <div>\n",
              "<style scoped>\n",
              "    .dataframe tbody tr th:only-of-type {\n",
              "        vertical-align: middle;\n",
              "    }\n",
              "\n",
              "    .dataframe tbody tr th {\n",
              "        vertical-align: top;\n",
              "    }\n",
              "\n",
              "    .dataframe thead th {\n",
              "        text-align: right;\n",
              "    }\n",
              "</style>\n",
              "<table border=\"1\" class=\"dataframe\">\n",
              "  <thead>\n",
              "    <tr style=\"text-align: right;\">\n",
              "      <th></th>\n",
              "      <th>payload</th>\n",
              "      <th>length</th>\n",
              "      <th>attack_type</th>\n",
              "      <th>label</th>\n",
              "    </tr>\n",
              "  </thead>\n",
              "  <tbody>\n",
              "    <tr>\n",
              "      <th>291</th>\n",
              "      <td>1' where 6406=6406;select count(*) from rdb$fi...</td>\n",
              "      <td>115</td>\n",
              "      <td>sqli</td>\n",
              "      <td>anom</td>\n",
              "    </tr>\n",
              "    <tr>\n",
              "      <th>292</th>\n",
              "      <td>1) and 8514=(select count(*) from domain.domai...</td>\n",
              "      <td>111</td>\n",
              "      <td>sqli</td>\n",
              "      <td>anom</td>\n",
              "    </tr>\n",
              "    <tr>\n",
              "      <th>293</th>\n",
              "      <td>1) where 7956=7956 or sleep(5)#</td>\n",
              "      <td>31</td>\n",
              "      <td>sqli</td>\n",
              "      <td>anom</td>\n",
              "    </tr>\n",
              "    <tr>\n",
              "      <th>294</th>\n",
              "      <td>-7387'))) order by 1--</td>\n",
              "      <td>22</td>\n",
              "      <td>sqli</td>\n",
              "      <td>anom</td>\n",
              "    </tr>\n",
              "    <tr>\n",
              "      <th>295</th>\n",
              "      <td>1))) union all select null,null,null#</td>\n",
              "      <td>37</td>\n",
              "      <td>sqli</td>\n",
              "      <td>anom</td>\n",
              "    </tr>\n",
              "    <tr>\n",
              "      <th>...</th>\n",
              "      <td>...</td>\n",
              "      <td>...</td>\n",
              "      <td>...</td>\n",
              "      <td>...</td>\n",
              "    </tr>\n",
              "    <tr>\n",
              "      <th>20360</th>\n",
              "      <td>1%\")) and elt(4249=4249,7259) and ((\"%\"=\"</td>\n",
              "      <td>41</td>\n",
              "      <td>sqli</td>\n",
              "      <td>anom</td>\n",
              "    </tr>\n",
              "    <tr>\n",
              "      <th>20361</th>\n",
              "      <td>-7773' or 5903=('qqpjq'||(select case 5903 whe...</td>\n",
              "      <td>99</td>\n",
              "      <td>sqli</td>\n",
              "      <td>anom</td>\n",
              "    </tr>\n",
              "    <tr>\n",
              "      <th>20362</th>\n",
              "      <td>1\" order by 1--</td>\n",
              "      <td>15</td>\n",
              "      <td>sqli</td>\n",
              "      <td>anom</td>\n",
              "    </tr>\n",
              "    <tr>\n",
              "      <th>20363</th>\n",
              "      <td>1' procedure analyse(extractvalue(5840,concat(...</td>\n",
              "      <td>149</td>\n",
              "      <td>sqli</td>\n",
              "      <td>anom</td>\n",
              "    </tr>\n",
              "    <tr>\n",
              "      <th>20364</th>\n",
              "      <td>-7511)) as xqzf where 9939=9939 union all sele...</td>\n",
              "      <td>85</td>\n",
              "      <td>sqli</td>\n",
              "      <td>anom</td>\n",
              "    </tr>\n",
              "  </tbody>\n",
              "</table>\n",
              "<p>7235 rows × 4 columns</p>\n",
              "</div>\n",
              "      <button class=\"colab-df-convert\" onclick=\"convertToInteractive('df-f0fb26ac-7200-47c0-9581-7952ffeb2507')\"\n",
              "              title=\"Convert this dataframe to an interactive table.\"\n",
              "              style=\"display:none;\">\n",
              "        \n",
              "  <svg xmlns=\"http://www.w3.org/2000/svg\" height=\"24px\"viewBox=\"0 0 24 24\"\n",
              "       width=\"24px\">\n",
              "    <path d=\"M0 0h24v24H0V0z\" fill=\"none\"/>\n",
              "    <path d=\"M18.56 5.44l.94 2.06.94-2.06 2.06-.94-2.06-.94-.94-2.06-.94 2.06-2.06.94zm-11 1L8.5 8.5l.94-2.06 2.06-.94-2.06-.94L8.5 2.5l-.94 2.06-2.06.94zm10 10l.94 2.06.94-2.06 2.06-.94-2.06-.94-.94-2.06-.94 2.06-2.06.94z\"/><path d=\"M17.41 7.96l-1.37-1.37c-.4-.4-.92-.59-1.43-.59-.52 0-1.04.2-1.43.59L10.3 9.45l-7.72 7.72c-.78.78-.78 2.05 0 2.83L4 21.41c.39.39.9.59 1.41.59.51 0 1.02-.2 1.41-.59l7.78-7.78 2.81-2.81c.8-.78.8-2.07 0-2.86zM5.41 20L4 18.59l7.72-7.72 1.47 1.35L5.41 20z\"/>\n",
              "  </svg>\n",
              "      </button>\n",
              "      \n",
              "  <style>\n",
              "    .colab-df-container {\n",
              "      display:flex;\n",
              "      flex-wrap:wrap;\n",
              "      gap: 12px;\n",
              "    }\n",
              "\n",
              "    .colab-df-convert {\n",
              "      background-color: #E8F0FE;\n",
              "      border: none;\n",
              "      border-radius: 50%;\n",
              "      cursor: pointer;\n",
              "      display: none;\n",
              "      fill: #1967D2;\n",
              "      height: 32px;\n",
              "      padding: 0 0 0 0;\n",
              "      width: 32px;\n",
              "    }\n",
              "\n",
              "    .colab-df-convert:hover {\n",
              "      background-color: #E2EBFA;\n",
              "      box-shadow: 0px 1px 2px rgba(60, 64, 67, 0.3), 0px 1px 3px 1px rgba(60, 64, 67, 0.15);\n",
              "      fill: #174EA6;\n",
              "    }\n",
              "\n",
              "    [theme=dark] .colab-df-convert {\n",
              "      background-color: #3B4455;\n",
              "      fill: #D2E3FC;\n",
              "    }\n",
              "\n",
              "    [theme=dark] .colab-df-convert:hover {\n",
              "      background-color: #434B5C;\n",
              "      box-shadow: 0px 1px 3px 1px rgba(0, 0, 0, 0.15);\n",
              "      filter: drop-shadow(0px 1px 2px rgba(0, 0, 0, 0.3));\n",
              "      fill: #FFFFFF;\n",
              "    }\n",
              "  </style>\n",
              "\n",
              "      <script>\n",
              "        const buttonEl =\n",
              "          document.querySelector('#df-f0fb26ac-7200-47c0-9581-7952ffeb2507 button.colab-df-convert');\n",
              "        buttonEl.style.display =\n",
              "          google.colab.kernel.accessAllowed ? 'block' : 'none';\n",
              "\n",
              "        async function convertToInteractive(key) {\n",
              "          const element = document.querySelector('#df-f0fb26ac-7200-47c0-9581-7952ffeb2507');\n",
              "          const dataTable =\n",
              "            await google.colab.kernel.invokeFunction('convertToInteractive',\n",
              "                                                     [key], {});\n",
              "          if (!dataTable) return;\n",
              "\n",
              "          const docLinkHtml = 'Like what you see? Visit the ' +\n",
              "            '<a target=\"_blank\" href=https://colab.research.google.com/notebooks/data_table.ipynb>data table notebook</a>'\n",
              "            + ' to learn more about interactive tables.';\n",
              "          element.innerHTML = '';\n",
              "          dataTable['output_type'] = 'display_data';\n",
              "          await google.colab.output.renderOutput(dataTable, element);\n",
              "          const docLink = document.createElement('div');\n",
              "          docLink.innerHTML = docLinkHtml;\n",
              "          element.appendChild(docLink);\n",
              "        }\n",
              "      </script>\n",
              "    </div>\n",
              "  </div>\n",
              "  "
            ],
            "text/plain": [
              "                                                 payload  ...  label\n",
              "291    1' where 6406=6406;select count(*) from rdb$fi...  ...   anom\n",
              "292    1) and 8514=(select count(*) from domain.domai...  ...   anom\n",
              "293                      1) where 7956=7956 or sleep(5)#  ...   anom\n",
              "294                               -7387'))) order by 1--  ...   anom\n",
              "295                1))) union all select null,null,null#  ...   anom\n",
              "...                                                  ...  ...    ...\n",
              "20360          1%\")) and elt(4249=4249,7259) and ((\"%\"=\"  ...   anom\n",
              "20361  -7773' or 5903=('qqpjq'||(select case 5903 whe...  ...   anom\n",
              "20362                                    1\" order by 1--  ...   anom\n",
              "20363  1' procedure analyse(extractvalue(5840,concat(...  ...   anom\n",
              "20364  -7511)) as xqzf where 9939=9939 union all sele...  ...   anom\n",
              "\n",
              "[7235 rows x 4 columns]"
            ]
          },
          "metadata": {},
          "execution_count": 11
        }
      ]
    },
    {
      "cell_type": "code",
      "source": [
        "print('{:.2%}'.format(\n",
        "    df_sqli['payload'].str.contains('\\)').sum() \\\n",
        "    / len(df_sqli['payload'])\n",
        "    )\n",
        ")"
      ],
      "metadata": {
        "colab": {
          "base_uri": "https://localhost:8080/"
        },
        "id": "dTFhCBHhdfDO",
        "outputId": "eda46df7-3b6e-4fbc-bb34-52a149c5ad99"
      },
      "execution_count": 12,
      "outputs": [
        {
          "output_type": "stream",
          "name": "stdout",
          "text": [
            "90.91%\n"
          ]
        }
      ]
    },
    {
      "cell_type": "code",
      "source": [
        "df_norm = df[df.attack_type == 'norm']\n",
        "\n",
        "print('{:.2%}'.format(\n",
        "    df_norm['payload'].str.contains('\\)').sum() \\\n",
        "    / len(df_norm['payload'])\n",
        "    )\n",
        ")"
      ],
      "metadata": {
        "colab": {
          "base_uri": "https://localhost:8080/"
        },
        "id": "0f_YrwNfebpb",
        "outputId": "29cb5868-0872-410f-c482-8fa94b68e314"
      },
      "execution_count": 13,
      "outputs": [
        {
          "output_type": "stream",
          "name": "stdout",
          "text": [
            "0.01%\n"
          ]
        }
      ]
    },
    {
      "cell_type": "code",
      "source": [
        "# Extend the dataset to add add new features\n",
        "def func_preprocessing(df):\n",
        "  train_rows = ((df.attack_type == 'norm') | (df.attack_type == 'sqli'))\n",
        "  df = df[train_rows]\n",
        "\n",
        "  entropies = []\n",
        "  closing_parenthesis = []\n",
        "\n",
        "  # Extract HTTP query string from pyaload string and let it be processed\n",
        "  for i in df['payload']:\n",
        "    # Calculation of entropy\n",
        "    entropies.append(H_entropy(i))\n",
        "    # ')'detection\n",
        "    if i.count(')'):\n",
        "      closing_parenthesis.append(1)\n",
        "    else :\n",
        "      closing_parenthesis.append(0)\n",
        "  # Add dataset\n",
        "  df = df.assign(entropy=entropies)\n",
        "  df = df.assign(closing_parenthesis=closing_parenthesis)\n",
        "\n",
        "  rep = df.label.replace({\"norm\":0, \"anom\":1})\n",
        "  df = df.assign(label=rep)\n",
        "\n",
        "  return df\n"
      ],
      "metadata": {
        "id": "y_PwOUD6khmG"
      },
      "execution_count": 16,
      "outputs": []
    },
    {
      "cell_type": "code",
      "source": [
        "df = func_preprocessing(df)\n",
        "df"
      ],
      "metadata": {
        "colab": {
          "base_uri": "https://localhost:8080/",
          "height": 419
        },
        "id": "hBcLliJummno",
        "outputId": "56f9ab7c-9176-40d7-9d18-9ab7c8a06470"
      },
      "execution_count": 17,
      "outputs": [
        {
          "output_type": "execute_result",
          "data": {
            "text/html": [
              "\n",
              "  <div id=\"df-296214f7-8d5d-4222-a406-2b717a4d6905\">\n",
              "    <div class=\"colab-df-container\">\n",
              "      <div>\n",
              "<style scoped>\n",
              "    .dataframe tbody tr th:only-of-type {\n",
              "        vertical-align: middle;\n",
              "    }\n",
              "\n",
              "    .dataframe tbody tr th {\n",
              "        vertical-align: top;\n",
              "    }\n",
              "\n",
              "    .dataframe thead th {\n",
              "        text-align: right;\n",
              "    }\n",
              "</style>\n",
              "<table border=\"1\" class=\"dataframe\">\n",
              "  <thead>\n",
              "    <tr style=\"text-align: right;\">\n",
              "      <th></th>\n",
              "      <th>payload</th>\n",
              "      <th>length</th>\n",
              "      <th>attack_type</th>\n",
              "      <th>label</th>\n",
              "      <th>entropy</th>\n",
              "      <th>closing_parenthesis</th>\n",
              "    </tr>\n",
              "  </thead>\n",
              "  <tbody>\n",
              "    <tr>\n",
              "      <th>0</th>\n",
              "      <td>c/ caridad s/n</td>\n",
              "      <td>14</td>\n",
              "      <td>norm</td>\n",
              "      <td>0</td>\n",
              "      <td>3.093069</td>\n",
              "      <td>0</td>\n",
              "    </tr>\n",
              "    <tr>\n",
              "      <th>1</th>\n",
              "      <td>campello, el</td>\n",
              "      <td>12</td>\n",
              "      <td>norm</td>\n",
              "      <td>0</td>\n",
              "      <td>3.022055</td>\n",
              "      <td>0</td>\n",
              "    </tr>\n",
              "    <tr>\n",
              "      <th>2</th>\n",
              "      <td>1442431887503330</td>\n",
              "      <td>16</td>\n",
              "      <td>norm</td>\n",
              "      <td>0</td>\n",
              "      <td>2.827820</td>\n",
              "      <td>0</td>\n",
              "    </tr>\n",
              "    <tr>\n",
              "      <th>3</th>\n",
              "      <td>nue37</td>\n",
              "      <td>5</td>\n",
              "      <td>norm</td>\n",
              "      <td>0</td>\n",
              "      <td>2.321928</td>\n",
              "      <td>0</td>\n",
              "    </tr>\n",
              "    <tr>\n",
              "      <th>4</th>\n",
              "      <td>tufts3@joll.rs</td>\n",
              "      <td>14</td>\n",
              "      <td>norm</td>\n",
              "      <td>0</td>\n",
              "      <td>3.378783</td>\n",
              "      <td>0</td>\n",
              "    </tr>\n",
              "    <tr>\n",
              "      <th>...</th>\n",
              "      <td>...</td>\n",
              "      <td>...</td>\n",
              "      <td>...</td>\n",
              "      <td>...</td>\n",
              "      <td>...</td>\n",
              "      <td>...</td>\n",
              "    </tr>\n",
              "    <tr>\n",
              "      <th>20360</th>\n",
              "      <td>1%\")) and elt(4249=4249,7259) and ((\"%\"=\"</td>\n",
              "      <td>41</td>\n",
              "      <td>sqli</td>\n",
              "      <td>1</td>\n",
              "      <td>4.064392</td>\n",
              "      <td>1</td>\n",
              "    </tr>\n",
              "    <tr>\n",
              "      <th>20361</th>\n",
              "      <td>-7773' or 5903=('qqpjq'||(select case 5903 whe...</td>\n",
              "      <td>99</td>\n",
              "      <td>sqli</td>\n",
              "      <td>1</td>\n",
              "      <td>4.718866</td>\n",
              "      <td>1</td>\n",
              "    </tr>\n",
              "    <tr>\n",
              "      <th>20362</th>\n",
              "      <td>1\" order by 1--</td>\n",
              "      <td>15</td>\n",
              "      <td>sqli</td>\n",
              "      <td>1</td>\n",
              "      <td>3.189898</td>\n",
              "      <td>0</td>\n",
              "    </tr>\n",
              "    <tr>\n",
              "      <th>20363</th>\n",
              "      <td>1' procedure analyse(extractvalue(5840,concat(...</td>\n",
              "      <td>149</td>\n",
              "      <td>sqli</td>\n",
              "      <td>1</td>\n",
              "      <td>4.641613</td>\n",
              "      <td>1</td>\n",
              "    </tr>\n",
              "    <tr>\n",
              "      <th>20364</th>\n",
              "      <td>-7511)) as xqzf where 9939=9939 union all sele...</td>\n",
              "      <td>85</td>\n",
              "      <td>sqli</td>\n",
              "      <td>1</td>\n",
              "      <td>3.774910</td>\n",
              "      <td>1</td>\n",
              "    </tr>\n",
              "  </tbody>\n",
              "</table>\n",
              "<p>20105 rows × 6 columns</p>\n",
              "</div>\n",
              "      <button class=\"colab-df-convert\" onclick=\"convertToInteractive('df-296214f7-8d5d-4222-a406-2b717a4d6905')\"\n",
              "              title=\"Convert this dataframe to an interactive table.\"\n",
              "              style=\"display:none;\">\n",
              "        \n",
              "  <svg xmlns=\"http://www.w3.org/2000/svg\" height=\"24px\"viewBox=\"0 0 24 24\"\n",
              "       width=\"24px\">\n",
              "    <path d=\"M0 0h24v24H0V0z\" fill=\"none\"/>\n",
              "    <path d=\"M18.56 5.44l.94 2.06.94-2.06 2.06-.94-2.06-.94-.94-2.06-.94 2.06-2.06.94zm-11 1L8.5 8.5l.94-2.06 2.06-.94-2.06-.94L8.5 2.5l-.94 2.06-2.06.94zm10 10l.94 2.06.94-2.06 2.06-.94-2.06-.94-.94-2.06-.94 2.06-2.06.94z\"/><path d=\"M17.41 7.96l-1.37-1.37c-.4-.4-.92-.59-1.43-.59-.52 0-1.04.2-1.43.59L10.3 9.45l-7.72 7.72c-.78.78-.78 2.05 0 2.83L4 21.41c.39.39.9.59 1.41.59.51 0 1.02-.2 1.41-.59l7.78-7.78 2.81-2.81c.8-.78.8-2.07 0-2.86zM5.41 20L4 18.59l7.72-7.72 1.47 1.35L5.41 20z\"/>\n",
              "  </svg>\n",
              "      </button>\n",
              "      \n",
              "  <style>\n",
              "    .colab-df-container {\n",
              "      display:flex;\n",
              "      flex-wrap:wrap;\n",
              "      gap: 12px;\n",
              "    }\n",
              "\n",
              "    .colab-df-convert {\n",
              "      background-color: #E8F0FE;\n",
              "      border: none;\n",
              "      border-radius: 50%;\n",
              "      cursor: pointer;\n",
              "      display: none;\n",
              "      fill: #1967D2;\n",
              "      height: 32px;\n",
              "      padding: 0 0 0 0;\n",
              "      width: 32px;\n",
              "    }\n",
              "\n",
              "    .colab-df-convert:hover {\n",
              "      background-color: #E2EBFA;\n",
              "      box-shadow: 0px 1px 2px rgba(60, 64, 67, 0.3), 0px 1px 3px 1px rgba(60, 64, 67, 0.15);\n",
              "      fill: #174EA6;\n",
              "    }\n",
              "\n",
              "    [theme=dark] .colab-df-convert {\n",
              "      background-color: #3B4455;\n",
              "      fill: #D2E3FC;\n",
              "    }\n",
              "\n",
              "    [theme=dark] .colab-df-convert:hover {\n",
              "      background-color: #434B5C;\n",
              "      box-shadow: 0px 1px 3px 1px rgba(0, 0, 0, 0.15);\n",
              "      filter: drop-shadow(0px 1px 2px rgba(0, 0, 0, 0.3));\n",
              "      fill: #FFFFFF;\n",
              "    }\n",
              "  </style>\n",
              "\n",
              "      <script>\n",
              "        const buttonEl =\n",
              "          document.querySelector('#df-296214f7-8d5d-4222-a406-2b717a4d6905 button.colab-df-convert');\n",
              "        buttonEl.style.display =\n",
              "          google.colab.kernel.accessAllowed ? 'block' : 'none';\n",
              "\n",
              "        async function convertToInteractive(key) {\n",
              "          const element = document.querySelector('#df-296214f7-8d5d-4222-a406-2b717a4d6905');\n",
              "          const dataTable =\n",
              "            await google.colab.kernel.invokeFunction('convertToInteractive',\n",
              "                                                     [key], {});\n",
              "          if (!dataTable) return;\n",
              "\n",
              "          const docLinkHtml = 'Like what you see? Visit the ' +\n",
              "            '<a target=\"_blank\" href=https://colab.research.google.com/notebooks/data_table.ipynb>data table notebook</a>'\n",
              "            + ' to learn more about interactive tables.';\n",
              "          element.innerHTML = '';\n",
              "          dataTable['output_type'] = 'display_data';\n",
              "          await google.colab.output.renderOutput(dataTable, element);\n",
              "          const docLink = document.createElement('div');\n",
              "          docLink.innerHTML = docLinkHtml;\n",
              "          element.appendChild(docLink);\n",
              "        }\n",
              "      </script>\n",
              "    </div>\n",
              "  </div>\n",
              "  "
            ],
            "text/plain": [
              "                                                 payload  ...  closing_parenthesis\n",
              "0                                         c/ caridad s/n  ...                    0\n",
              "1                                           campello, el  ...                    0\n",
              "2                                       1442431887503330  ...                    0\n",
              "3                                                  nue37  ...                    0\n",
              "4                                         tufts3@joll.rs  ...                    0\n",
              "...                                                  ...  ...                  ...\n",
              "20360          1%\")) and elt(4249=4249,7259) and ((\"%\"=\"  ...                    1\n",
              "20361  -7773' or 5903=('qqpjq'||(select case 5903 whe...  ...                    1\n",
              "20362                                    1\" order by 1--  ...                    0\n",
              "20363  1' procedure analyse(extractvalue(5840,concat(...  ...                    1\n",
              "20364  -7511)) as xqzf where 9939=9939 union all sele...  ...                    1\n",
              "\n",
              "[20105 rows x 6 columns]"
            ]
          },
          "metadata": {},
          "execution_count": 17
        }
      ]
    },
    {
      "cell_type": "markdown",
      "source": [
        "SQL injection Detector"
      ],
      "metadata": {
        "id": "3vXfu3b7rPOF"
      }
    },
    {
      "cell_type": "code",
      "source": [
        "test_data = pd.read_csv('./payload_test.csv')\n",
        "test_data = func_preprocessing(test_data)\n",
        "\n",
        "# Extract of features\n",
        "df_x = df[['length', 'entropy', 'closing_parenthesis']]\n",
        "test_x = test_data[['length', 'entropy', 'closing_parenthesis']]\n",
        "\n",
        "# Extract labels\n",
        "df_y = df[['label']]\n",
        "test_y = test_data[['label']]\n",
        "\n",
        "x_all = pd.concat([df_x, test_x])\n",
        "y_all = pd.concat([df_y, test_y])\n",
        "\n",
        "print(x_all)\n",
        "print(y_all)"
      ],
      "metadata": {
        "colab": {
          "base_uri": "https://localhost:8080/"
        },
        "id": "Gkf8tpb5rcRT",
        "outputId": "10f1e43e-cd47-4eda-aaf4-13af2e821f23"
      },
      "execution_count": 20,
      "outputs": [
        {
          "output_type": "stream",
          "name": "stdout",
          "text": [
            "       length   entropy  closing_parenthesis\n",
            "0          14  3.093069                    0\n",
            "1          12  3.022055                    0\n",
            "2          16  2.827820                    0\n",
            "3           5  2.321928                    0\n",
            "4          14  3.378783                    0\n",
            "...       ...       ...                  ...\n",
            "10176     113  4.422041                    1\n",
            "10177     113  4.514233                    1\n",
            "10178     136  4.630369                    1\n",
            "10179     111  4.539371                    1\n",
            "10180      53  4.130354                    1\n",
            "\n",
            "[30156 rows x 3 columns]\n",
            "       label\n",
            "0          0\n",
            "1          0\n",
            "2          0\n",
            "3          0\n",
            "4          0\n",
            "...      ...\n",
            "10176      1\n",
            "10177      1\n",
            "10178      1\n",
            "10179      1\n",
            "10180      1\n",
            "\n",
            "[30156 rows x 1 columns]\n"
          ]
        }
      ]
    }
  ]
}